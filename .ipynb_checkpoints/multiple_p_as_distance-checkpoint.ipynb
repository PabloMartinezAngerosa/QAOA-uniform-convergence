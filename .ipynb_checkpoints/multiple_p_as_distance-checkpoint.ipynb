{
 "cells": [
  {
   "cell_type": "code",
   "execution_count": 6,
   "metadata": {},
   "outputs": [],
   "source": [
    "from tsp_qaoa import test_solution\n",
    "from qiskit.visualization import plot_histogram\n",
    "import networkx as nx\n",
    "import numpy as np\n",
    "import json\n",
    "import csv\n",
    "# Array of JSON Objects"
   ]
  },
  {
   "cell_type": "code",
   "execution_count": 1,
   "metadata": {
    "scrolled": false
   },
   "outputs": [
    {
     "ename": "NameError",
     "evalue": "name 'csv' is not defined",
     "output_type": "error",
     "traceback": [
      "\u001b[0;31m---------------------------------------------------------------------------\u001b[0m",
      "\u001b[0;31mNameError\u001b[0m                                 Traceback (most recent call last)",
      "\u001b[0;32m<ipython-input-1-1b43db291472>\u001b[0m in \u001b[0;36m<module>\u001b[0;34m\u001b[0m\n\u001b[1;32m      5\u001b[0m \u001b[0;34m\u001b[0m\u001b[0m\n\u001b[1;32m      6\u001b[0m \u001b[0;32mwith\u001b[0m \u001b[0mopen\u001b[0m\u001b[0;34m(\u001b[0m\u001b[0;34m'qaoa_multiple_p_distance.csv'\u001b[0m\u001b[0;34m,\u001b[0m \u001b[0;34m'w'\u001b[0m\u001b[0;34m,\u001b[0m \u001b[0mencoding\u001b[0m\u001b[0;34m=\u001b[0m\u001b[0;34m'UTF8'\u001b[0m\u001b[0;34m)\u001b[0m \u001b[0;32mas\u001b[0m \u001b[0mf\u001b[0m\u001b[0;34m:\u001b[0m\u001b[0;34m\u001b[0m\u001b[0;34m\u001b[0m\u001b[0m\n\u001b[0;32m----> 7\u001b[0;31m     \u001b[0mwriter\u001b[0m \u001b[0;34m=\u001b[0m \u001b[0mcsv\u001b[0m\u001b[0;34m.\u001b[0m\u001b[0mwriter\u001b[0m\u001b[0;34m(\u001b[0m\u001b[0mf\u001b[0m\u001b[0;34m)\u001b[0m\u001b[0;34m\u001b[0m\u001b[0;34m\u001b[0m\u001b[0m\n\u001b[0m\u001b[1;32m      8\u001b[0m \u001b[0;34m\u001b[0m\u001b[0m\n\u001b[1;32m      9\u001b[0m     \u001b[0;31m# write the header\u001b[0m\u001b[0;34m\u001b[0m\u001b[0;34m\u001b[0m\u001b[0;34m\u001b[0m\u001b[0m\n",
      "\u001b[0;31mNameError\u001b[0m: name 'csv' is not defined"
     ]
    }
   ],
   "source": [
    "header = ['instance','p','distance', 'mean']\n",
    "length_p = 3\n",
    "length_instances = 2\n",
    "\n",
    "\n",
    "with open('qaoa_multiple_p_distance.csv', 'w', encoding='UTF8') as f:\n",
    "    writer = csv.writer(f)\n",
    "\n",
    "    # write the header\n",
    "    writer.writerow(header)\n",
    "    \n",
    "    \n",
    "    instance_index = 0\n",
    "    for instance in range(length_instances):\n",
    "        instance_index += 1\n",
    "        first_p = False\n",
    "        UNIFORM_CONVERGENCE_P = []\n",
    "        UNIFORM_CONVERGENCE_SAMPLE = []\n",
    "        for p in range(length_p):\n",
    "            p = p+1\n",
    "            if first_p == False:\n",
    "                print(\"Vuelve a llamar a test_solution\")\n",
    "                job_2, G, UNIFORM_CONVERGENCE_SAMPLE = test_solution(p=p)\n",
    "                first_p = True\n",
    "            else:\n",
    "                job_2, G, UNIFORM_CONVERGENCE_SAMPLE = test_solution(grafo=G, p=p)\n",
    "\n",
    "            # Sort the JSON data based on the value of the brand key\n",
    "            UNIFORM_CONVERGENCE_SAMPLE.sort(key=lambda x: x[\"mean\"])\n",
    "            convergence_min = UNIFORM_CONVERGENCE_SAMPLE[0]\n",
    "            UNIFORM_CONVERGENCE_P.append({\n",
    "                \"mean\":convergence_min[\"mean\"],\n",
    "                \"probabilities\": convergence_min[\"probabilities\"]\n",
    "            })\n",
    "        \n",
    "        cauchy_function_nk = UNIFORM_CONVERGENCE_P[len(UNIFORM_CONVERGENCE_P) - 1]\n",
    "        p_index = 0\n",
    "        for p_state in UNIFORM_CONVERGENCE_P:\n",
    "            p_index += 1\n",
    "            print(p_index)\n",
    "            mean = p_state[\"mean\"]\n",
    "            print(p_state)\n",
    "            print(mean)\n",
    "            distance_p_cauchy_function_nk = np.max(np.abs(cauchy_function_nk[\"probabilities\"] - p_state[\"probabilities\"]))\n",
    "            writer.writerow([instance_index, p_index, distance_p_cauchy_function_nk, mean])\n",
    "        \n",
    "    \n",
    "    \n",
    "    "
   ]
  },
  {
   "cell_type": "code",
   "execution_count": null,
   "metadata": {},
   "outputs": [],
   "source": []
  }
 ],
 "metadata": {
  "kernelspec": {
   "display_name": "Python 3",
   "language": "python",
   "name": "python3"
  },
  "language_info": {
   "codemirror_mode": {
    "name": "ipython",
    "version": 3
   },
   "file_extension": ".py",
   "mimetype": "text/x-python",
   "name": "python",
   "nbconvert_exporter": "python",
   "pygments_lexer": "ipython3",
   "version": "3.8.5"
  }
 },
 "nbformat": 4,
 "nbformat_minor": 5
}
