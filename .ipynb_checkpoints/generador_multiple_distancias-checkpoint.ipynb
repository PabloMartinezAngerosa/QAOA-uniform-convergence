{
 "cells": [
  {
   "cell_type": "code",
   "execution_count": 1,
   "id": "a161747e",
   "metadata": {},
   "outputs": [],
   "source": [
    "from tsp_qaoa import test_solution\n",
    "from qiskit.visualization import plot_histogram\n",
    "import networkx as nx\n",
    "import numpy as np\n",
    "import json\n",
    "import csv\n",
    "# Array of JSON Objects"
   ]
  },
  {
   "cell_type": "code",
   "execution_count": null,
   "id": "5f5c3dda",
   "metadata": {},
   "outputs": [],
   "source": [
    "\n",
    "\n",
    "\n",
    "\n",
    "# Sort the JSON data based on the value of the brand key\n",
    "UNIFORM_CONVERGENCE_SAMPLE.sort(key=lambda x: x[\"mean\"])\n",
    "\n",
    "# genera las distancias\n",
    "index = -1\n",
    "\n",
    "for sample in UNIFORM_CONVERGENCE_SAMPLE:\n",
    "    mean = sample[\"mean\"]\n",
    "    index += 1\n",
    "    distance_p_ground_state = np.max(np.abs(UNIFORM_CONVERGENCE_SAMPLE[0][\"probabilities\"] - sample[\"probabilities\"]))\n",
    "    UNIFORM_CONVERGENCE_SAMPLE[index][\"distance_pgs\"] = distance_p_ground_state\n",
    "\n",
    "    \n",
    "\n",
    "\n",
    "header = ['instance', 'iteration', 'distance']\n",
    "length_instances = 2\n",
    "\n",
    "with open('qaoa_multiple_distance.csv', 'w', encoding='UTF8') as f:\n",
    "    writer = csv.writer(f)\n",
    "\n",
    "    # write the header\n",
    "    writer.writerow(header)\n",
    "    \n",
    "    \n",
    "    for i in range(length_instances):\n",
    "         job_2, G, UNIFORM_CONVERGENCE_SAMPLE = test_solution()\n",
    "        \n",
    "    iteration = 0\n",
    "    for sample in UNIFORM_CONVERGENCE_SAMPLE:\n",
    "        iteration += 1\n",
    "        mean = sample[\"mean\"]\n",
    "        distance = sample[\"distance_pgs\"]\n",
    "        state = 0\n",
    "        for probability in  sample[\"probabilities\"]:\n",
    "            state += 1\n",
    "            # write the data\n",
    "            data = [iteration, state, probability, mean]\n",
    "            writer.writerow(data)\n",
    "\n",
    "        writer_q.writerow([iteration, distance])\n",
    "        \n",
    "    \n",
    "    \n",
    "    "
   ]
  }
 ],
 "metadata": {
  "kernelspec": {
   "display_name": "Python 3",
   "language": "python",
   "name": "python3"
  },
  "language_info": {
   "codemirror_mode": {
    "name": "ipython",
    "version": 3
   },
   "file_extension": ".py",
   "mimetype": "text/x-python",
   "name": "python",
   "nbconvert_exporter": "python",
   "pygments_lexer": "ipython3",
   "version": "3.9.2"
  }
 },
 "nbformat": 4,
 "nbformat_minor": 5
}
