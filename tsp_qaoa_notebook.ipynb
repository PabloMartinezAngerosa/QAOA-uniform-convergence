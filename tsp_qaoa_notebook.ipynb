{
 "cells": [
  {
   "cell_type": "code",
   "execution_count": 43,
   "id": "0cc8c70f",
   "metadata": {},
   "outputs": [],
   "source": [
    "import qiskit\n",
    "import numpy as np\n",
    "import networkx as nx\n",
    "import matplotlib.pyplot as plt\n",
    "from collections import defaultdict\n",
    "from operator import itemgetter\n",
    "from scipy.optimize import minimize\n",
    "from qiskit import QuantumCircuit, QuantumRegister, ClassicalRegister, execute, Aer\n",
    "from qiskit.aqua.algorithms import NumPyEigensolver\n",
    "from qiskit.quantum_info import Pauli\n",
    "from qiskit.aqua.operators import op_converter\n",
    "from qiskit.aqua.operators import WeightedPauliOperator\n"
   ]
  },
  {
   "cell_type": "code",
   "execution_count": 44,
   "id": "bda7e828",
   "metadata": {},
   "outputs": [
    {
     "data": {
      "image/png": "[encoded data removed]",
      "text/plain": [
       "<Figure size 432x288 with 1 Axes>"
      ]
     },
     "metadata": {},
     "output_type": "display_data"
    }
   ],
   "source": [
    "G=nx.Graph()\n",
    "G.add_edges_from([[0,3],[0,4],[1,3],[1,4],[2,3],[2,4]])\n",
    "nx.draw(G,nx.bipartite_layout(G,[0,1,2]))\n"
   ]
  },
  {
   "cell_type": "code",
   "execution_count": 45,
   "id": "e46b3b08",
   "metadata": {},
   "outputs": [],
   "source": [
    "def append_zz_term(qc,q1,q2,gamma):\n",
    "    qc.cx(q1,q2)\n",
    "    qc.rz(2*gamma,q2)\n",
    "    qc.cx(q1,q2)\n"
   ]
  },
  {
   "cell_type": "code",
   "execution_count": 46,
   "id": "05b9caec",
   "metadata": {},
   "outputs": [],
   "source": [
    "def get_cost_circuit(G,gamma):\n",
    "    N=G.number_of_nodes()\n",
    "    qc=QuantumCircuit(N,N)\n",
    "    for i,j in G.edges():\n",
    "        append_zz_term(qc,i,j,gamma)\n",
    "    return qc\n",
    "#print(get_cost_circuit(G,0.5))"
   ]
  },
  {
   "cell_type": "code",
   "execution_count": 65,
   "id": "dacd683c",
   "metadata": {},
   "outputs": [],
   "source": [
    "def append_x_term(qc,q1,beta):\n",
    "    qc.rx(2*beta,q1)\n",
    "\n",
    "def get_mixer_operator(G,beta):\n",
    "    N=G.number_of_nodes()\n",
    "    qc=QuantumCircuit(N,N)\n",
    "    for n in G.nodes():\n",
    "        append_x_term(qc,n,beta)\n",
    "    return qc\n",
    "\n",
    "#print(get_mixer_operator(G,0.5))\n"
   ]
  },
  {
   "cell_type": "code",
   "execution_count": 48,
   "id": "63fe6340",
   "metadata": {},
   "outputs": [
    {
     "name": "stdout",
     "output_type": "stream",
     "text": [
      "     ┌───┐                                               ┌───────┐          »\n",
      "q_0: ┤ H ├──■─────────────■────■──────────────────────■──┤ RZ(1) ├──────────»\n",
      "     ├───┤  │             │    │    ┌───┐  ┌───────┐  │  └─┬───┬─┘     ┌───┐»\n",
      "q_1: ┤ H ├──┼─────────────┼────┼────┤ X ├──┤ RZ(1) ├──┼────┤ X ├───────┤ X ├»\n",
      "     ├───┤  │             │    │    └─┬─┘  └───────┘  │    └─┬─┘  ┌───┐└─┬─┘»\n",
      "q_2: ┤ H ├──┼─────────────┼────┼──────┼───────────────┼──────┼────┤ X ├──┼──»\n",
      "     ├───┤┌─┴─┐┌───────┐┌─┴─┐  │      │               │      │    └─┬─┘  │  »\n",
      "q_3: ┤ H ├┤ X ├┤ RZ(1) ├┤ X ├──┼──────■───────────────┼──────■──────■────┼──»\n",
      "     ├───┤└───┘└───────┘└───┘┌─┴─┐┌───────┐         ┌─┴─┐                │  »\n",
      "q_4: ┤ H ├───────────────────┤ X ├┤ RZ(1) ├─────────┤ X ├────────────────■──»\n",
      "     └───┘                   └───┘└───────┘         └───┘                   »\n",
      "c: 5/═══════════════════════════════════════════════════════════════════════»\n",
      "                                                                            »\n",
      "«                                                                       »\n",
      "«q_0: ───────────────────────────────────────■──────────────────■────■──»\n",
      "«     ┌───────┐     ┌───┐┌───────┐           │                  │    │  »\n",
      "«q_1: ┤ RZ(1) ├─────┤ X ├┤ RZ(1) ├───────────┼──────────────────┼────┼──»\n",
      "«     ├───────┤┌───┐└─┬─┘└─┬───┬─┘┌───────┐  │  ┌───┐┌───────┐  │    │  »\n",
      "«q_2: ┤ RZ(1) ├┤ X ├──┼────┤ X ├──┤ RZ(1) ├──┼──┤ X ├┤ RZ(1) ├──┼────┼──»\n",
      "«     └───────┘└─┬─┘  │    └─┬─┘  ├───────┤┌─┴─┐└─┬─┘├───────┤┌─┴─┐  │  »\n",
      "«q_3: ───────────■────┼──────┼────┤ RZ(1) ├┤ X ├──┼──┤ RZ(0) ├┤ X ├──┼──»\n",
      "«                     │      │    └───────┘└───┘  │  ├───────┤└───┘┌─┴─┐»\n",
      "«q_4: ────────────────■──────■────────────────────■──┤ RZ(1) ├─────┤ X ├»\n",
      "«                                                    └───────┘     └───┘»\n",
      "«c: 5/══════════════════════════════════════════════════════════════════»\n",
      "«                                                                       »\n",
      "«                            ┌───────┐                                      »\n",
      "«q_0: ────────────────────■──┤ RZ(0) ├──────────────────────────────────────»\n",
      "«       ┌───┐  ┌───────┐  │  └─┬───┬─┘     ┌───┐┌───────┐     ┌───┐┌───────┐»\n",
      "«q_1: ──┤ X ├──┤ RZ(0) ├──┼────┤ X ├───────┤ X ├┤ RZ(0) ├─────┤ X ├┤ RZ(0) ├»\n",
      "«       └─┬─┘  └───────┘  │    └─┬─┘  ┌───┐└─┬─┘├───────┤┌───┐└─┬─┘└─┬───┬─┘»\n",
      "«q_2: ────┼───────────────┼──────┼────┤ X ├──┼──┤ RZ(0) ├┤ X ├──┼────┤ X ├──»\n",
      "«         │               │      │    └─┬─┘  │  └───────┘└─┬─┘  │    └─┬─┘  »\n",
      "«q_3: ────■───────────────┼──────■──────■────┼─────────────■────┼──────┼────»\n",
      "«     ┌───────┐         ┌─┴─┐                │                  │      │    »\n",
      "«q_4: ┤ RZ(0) ├─────────┤ X ├────────────────■──────────────────■──────■────»\n",
      "«     └───────┘         └───┘                                               »\n",
      "«c: 5/══════════════════════════════════════════════════════════════════════»\n",
      "«                                                                           »\n",
      "«                                                                     »\n",
      "«q_0: ───────────■───────────────────■────■────────────────────────■──»\n",
      "«                │                   │    │    ┌───┐   ┌────────┐  │  »\n",
      "«q_1: ───────────┼───────────────────┼────┼────┤ X ├───┤ RZ(12) ├──┼──»\n",
      "«     ┌───────┐  │  ┌───┐┌───────┐   │    │    └─┬─┘   └────────┘  │  »\n",
      "«q_2: ┤ RZ(0) ├──┼──┤ X ├┤ RZ(0) ├───┼────┼──────┼─────────────────┼──»\n",
      "«     ├───────┤┌─┴─┐└─┬─┘├───────┴┐┌─┴─┐  │      │                 │  »\n",
      "«q_3: ┤ RZ(0) ├┤ X ├──┼──┤ RZ(12) ├┤ X ├──┼──────■─────────────────┼──»\n",
      "«     └───────┘└───┘  │  ├───────┬┘└───┘┌─┴─┐┌────────┐          ┌─┴─┐»\n",
      "«q_4: ────────────────■──┤ RZ(0) ├──────┤ X ├┤ RZ(12) ├──────────┤ X ├»\n",
      "«                        └───────┘      └───┘└────────┘          └───┘»\n",
      "«c: 5/════════════════════════════════════════════════════════════════»\n",
      "«                                                                     »\n",
      "«     ┌────────┐                                                       »\n",
      "«q_0: ┤ RZ(12) ├───────────────────────────────────────────────────────»\n",
      "«     └─┬───┬──┘     ┌───┐┌────────┐     ┌───┐┌────────┐               »\n",
      "«q_1: ──┤ X ├────────┤ X ├┤ RZ(12) ├─────┤ X ├┤ RZ(12) ├───────────────»\n",
      "«       └─┬─┘   ┌───┐└─┬─┘├────────┤┌───┐└─┬─┘└─┬───┬──┘┌────────┐┌───┐»\n",
      "«q_2: ────┼─────┤ X ├──┼──┤ RZ(12) ├┤ X ├──┼────┤ X ├───┤ RZ(12) ├┤ X ├»\n",
      "«         │     └─┬─┘  │  └────────┘└─┬─┘  │    └─┬─┘   ├────────┤└─┬─┘»\n",
      "«q_3: ────■───────■────┼──────────────■────┼──────┼─────┤ RZ(12) ├──┼──»\n",
      "«                      │                   │      │     └────────┘  │  »\n",
      "«q_4: ─────────────────■───────────────────■──────■─────────────────■──»\n",
      "«                                                                      »\n",
      "«c: 5/═════════════════════════════════════════════════════════════════»\n",
      "«                                                                      »\n",
      "«                ░ ┌─┐            \n",
      "«q_0: ───────────░─┤M├────────────\n",
      "«                ░ └╥┘┌─┐         \n",
      "«q_1: ───────────░──╫─┤M├─────────\n",
      "«     ┌────────┐ ░  ║ └╥┘┌─┐      \n",
      "«q_2: ┤ RZ(12) ├─░──╫──╫─┤M├──────\n",
      "«     └────────┘ ░  ║  ║ └╥┘┌─┐   \n",
      "«q_3: ───────────░──╫──╫──╫─┤M├───\n",
      "«     ┌────────┐ ░  ║  ║  ║ └╥┘┌─┐\n",
      "«q_4: ┤ RZ(12) ├─░──╫──╫──╫──╫─┤M├\n",
      "«     └────────┘ ░  ║  ║  ║  ║ └╥┘\n",
      "«c: 5/══════════════╩══╩══╩══╩══╩═\n",
      "«                   0  1  2  3  4 \n"
     ]
    }
   ],
   "source": [
    "def get_QAOA_circuit(G,beta,gamma):\n",
    "    assert(len(beta)==len(gamma))\n",
    "    N=G.number_of_nodes()\n",
    "    qc=QuantumCircuit(N,N)\n",
    "    qc.h(range(N))\n",
    "    p=len(beta)\n",
    "    #aplicamos las p rotaciones\n",
    "    for i in range(p):\n",
    "        qc=qc.compose(get_cost_circuit(G,gamma[i]))\n",
    "        qc=qc.compose(get_mixer_operator(G,beta[i]))\n",
    "    qc.barrier(range(N))\n",
    "    qc.measure(range(N),range(N))\n",
    "    return qc\n",
    "    \n",
    "print(get_QAOA_circuit(G,[0.5,0,6],[0.5,0,6]))    \n",
    "\n",
    "        "
   ]
  },
  {
   "cell_type": "code",
   "execution_count": 49,
   "id": "389c6d19",
   "metadata": {},
   "outputs": [
    {
     "name": "stdout",
     "output_type": "stream",
     "text": [
      "{'00100': 35, '01001': 36, '00110': 39, '01110': 34, '00001': 31, '10000': 38, '11001': 36, '00111': 32, '00010': 46, '10101': 21, '11100': 24, '01100': 29, '01101': 25, '11011': 34, '10010': 30, '10001': 33, '00000': 37, '01011': 21, '00011': 31, '01111': 24, '10011': 37, '01000': 30, '11010': 31, '10100': 35, '11111': 37, '10111': 31, '11110': 26, '11101': 29, '11000': 32, '10110': 35, '01010': 36, '00101': 29}\n"
     ]
    }
   ],
   "source": [
    "def invert_counts(counts):\n",
    "    return {k[::-1] :v for k,v in counts.items()}\n",
    "\n",
    "qc=get_QAOA_circuit(G,[0.5,0,6],[0.5,0,6])   \n",
    "backend=Aer.get_backend('qasm_simulator')\n",
    "job=execute(qc,backend)\n",
    "result=job.result()\n",
    "print(invert_counts(result.get_counts()))"
   ]
  },
  {
   "cell_type": "code",
   "execution_count": 63,
   "id": "da3868bc",
   "metadata": {},
   "outputs": [
    {
     "name": "stdout",
     "output_type": "stream",
     "text": [
      "-6\n"
     ]
    }
   ],
   "source": [
    "def maxcut_obj(x,G):\n",
    "    cut=0\n",
    "    for i,j in G.edges():\n",
    "        if x[i]!=x[j]:\n",
    "            cut = cut-1\n",
    "    return cut\n",
    "print(maxcut_obj(\"00011\",G))"
   ]
  },
  {
   "cell_type": "code",
   "execution_count": 61,
   "id": "b528ee1f",
   "metadata": {},
   "outputs": [],
   "source": [
    "def compute_maxcut_energy(counts,G):\n",
    "    energy=0\n",
    "    get_counts=0\n",
    "    total_counts=0\n",
    "    for meas, meas_count in counts.items():\n",
    "        obj_for_meas=maxcut_obj(meas,G)\n",
    "        energy+=obj_for_meas*meas_count\n",
    "        total_counts+=meas_count\n",
    "    return energy/total_counts"
   ]
  },
  {
   "cell_type": "code",
   "execution_count": 62,
   "id": "ac8c9cb8",
   "metadata": {},
   "outputs": [
    {
     "data": {
      "text/plain": [
       "     fun: -3.0068359375\n",
       "   maxcv: 0.0\n",
       " message: 'Optimization terminated successfully.'\n",
       "    nfev: 61\n",
       "  status: 1\n",
       " success: True\n",
       "       x: array([0.8 , 2.2 , 0.83, 2.15, 0.37, 2.4 , 6.1 , 2.2 , 3.8 , 6.1 ])"
      ]
     },
     "execution_count": 62,
     "metadata": {},
     "output_type": "execute_result"
    }
   ],
   "source": [
    "def get_black_box_objective(G,p):\n",
    "    backend=Aer.get_backend('qasm_simulator')\n",
    "    def f(theta):\n",
    "        beta=theta[:p]\n",
    "        gamma=theta[p:]\n",
    "        qc=get_QAOA_circuit(G,beta,gamma)\n",
    "        counts=execute(qc,backend,seed_simulator=10).result().get_counts()\n",
    "        return compute_maxcut_energy(invert_counts(counts),G)\n",
    "    return f\n",
    "p=5\n",
    "obj=get_black_box_objective(G,p)\n",
    "init_point=np.array([0.8,2.2,0.83,2.15,0.37,2.4,6.1,2.2,3.8,6.1])#([2,2,1,1,1,1,1,1,1,1])\n",
    "res_sample=minimize(obj, init_point,method=\"COBYLA\",options={\"maxiter\":2500,\"disp\":True})\n",
    "\n",
    "res_sample\n",
    "        "
   ]
  },
  {
   "cell_type": "code",
   "execution_count": null,
   "id": "1a55956a",
   "metadata": {},
   "outputs": [],
   "source": []
  }
 ],
 "metadata": {
  "kernelspec": {
   "display_name": "Python 3",
   "language": "python",
   "name": "python3"
  },
  "language_info": {
   "codemirror_mode": {
    "name": "ipython",
    "version": 3
   },
   "file_extension": ".py",
   "mimetype": "text/x-python",
   "name": "python",
   "nbconvert_exporter": "python",
   "pygments_lexer": "ipython3",
   "version": "3.7.10"
  }
 },
 "nbformat": 4,
 "nbformat_minor": 5
}
